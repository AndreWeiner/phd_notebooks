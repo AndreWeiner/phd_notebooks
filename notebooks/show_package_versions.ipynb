{
 "cells": [
  {
   "cell_type": "code",
   "execution_count": 7,
   "metadata": {},
   "outputs": [
    {
     "name": "stdout",
     "output_type": "stream",
     "text": [
      "Installed package version:\n",
      "--------------------------\n",
      "Ipython: 7.8.0\n",
      "Matplotlib: 2.1.1\n",
      "Numpy: 1.13.3\n",
      "Pandas: 0.22.0\n",
      "PyTorch: 1.2.0+cpu\n",
      "Scikit Learn: 0.21.3\n"
     ]
    }
   ],
   "source": [
    "import numpy\n",
    "import pandas\n",
    "import matplotlib\n",
    "import torch\n",
    "import sklearn\n",
    "import IPython\n",
    "\n",
    "print(\"Installed package versions:\")\n",
    "print(\"-\"*len(\"Installed package version:\"))\n",
    "print(\"Ipython: {}\".format(IPython.__version__))\n",
    "print(\"Matplotlib: {}\".format(matplotlib.__version__))\n",
    "print(\"Numpy: {}\".format(numpy.__version__))\n",
    "print(\"Pandas: {}\".format(pandas.__version__))\n",
    "print(\"PyTorch: {}\".format(torch.__version__))\n",
    "print(\"Scikit Learn: {}\".format(sklearn.__version__))"
   ]
  },
  {
   "cell_type": "code",
   "execution_count": 4,
   "metadata": {},
   "outputs": [
    {
     "name": "stdout",
     "output_type": "stream",
     "text": [
      "Current directory:\n",
      "------------------\n",
      "show_package_versions.ipynb\n",
      "\n",
      "Data directory:\n",
      "---------------\n",
      "dummy_data.csv\n",
      "\n",
      "Output directory:\n",
      "-----------------\n",
      "dummy_output.png\n"
     ]
    }
   ],
   "source": [
    "print(\"Current directory:\")\n",
    "print(\"-\"*len(\"Current directory:\"))\n",
    "!ls\n",
    "print()\n",
    "print(\"Data directory:\")\n",
    "print(\"-\"*len(\"Data directory:\"))\n",
    "!ls ../data\n",
    "print()\n",
    "print(\"Output directory:\")\n",
    "print(\"-\"*len(\"Output directory:\"))\n",
    "!ls ../output"
   ]
  },
  {
   "cell_type": "code",
   "execution_count": null,
   "metadata": {},
   "outputs": [],
   "source": []
  }
 ],
 "metadata": {
  "kernelspec": {
   "display_name": "Python 3",
   "language": "python",
   "name": "python3"
  },
  "language_info": {
   "codemirror_mode": {
    "name": "ipython",
    "version": 3
   },
   "file_extension": ".py",
   "mimetype": "text/x-python",
   "name": "python",
   "nbconvert_exporter": "python",
   "pygments_lexer": "ipython3",
   "version": "3.6.8"
  }
 },
 "nbformat": 4,
 "nbformat_minor": 2
}
