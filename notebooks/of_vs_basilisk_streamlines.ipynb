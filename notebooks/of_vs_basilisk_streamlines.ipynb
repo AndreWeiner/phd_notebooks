{
 "cells": [
  {
   "cell_type": "markdown",
   "metadata": {},
   "source": [
    "# Comparison of internal recirculation for dimpled ellipsoidal and skirted bubbles\n",
    "\n",
    "## Read fields from Basilisk and OpenFOAM simulations"
   ]
  },
  {
   "cell_type": "code",
   "execution_count": 2,
   "metadata": {},
   "outputs": [
    {
     "name": "stdout",
     "output_type": "stream",
     "text": [
      "['../data/bhaga_02_l16', '../data/bhaga_04_l16']\n"
     ]
    }
   ],
   "source": [
    "import helper_module as hm\n",
    "\n",
    "# Basilisk names amd simulation times\n",
    "names = [\"bhaga_02_l16\", \"bhaga_04_l16\"]\n",
    "times = [30, 20]\n",
    "\n",
    "data_path = \"../data/\"\n",
    "cases = [data_path + name for name in names]\n",
    "print(cases)"
   ]
  },
  {
   "cell_type": "code",
   "execution_count": null,
   "metadata": {},
   "outputs": [],
   "source": [
    "basilisk = {}\n",
    "of_pyto = {}\n",
    "of_slip = {}\n",
    "U_b = []\n",
    "\n",
    "for i, case in enumerate(cases):\n",
    "    case_name = case.split(\"/\")[-1]\n",
    "    log_path = case + \"/log.\" + case_name + \".csv\"\n",
    "    log = hm.Logfile(log_path)\n",
    "    log.read_logfile(usecols=['time', 'u_x', 'x'])\n",
    "    row = log.find_closest(\"time\", times[i])\n",
    "    U_b.append(row.u_x.values[0])\n",
    "    field_path = case + \"/\" + case_name + \"_t{:2d}.csv\".format(times[i])\n",
    "    basilisk_fields[case_name] = hm.CenterFieldValues2D(field_path, [0.0, row.x.values[0]], [0.0, row.u_x.values[0]])\n",
    "    \n",
    "print(\"Rise velocities:\\n\", U_b)"
   ]
  }
 ],
 "metadata": {
  "kernelspec": {
   "display_name": "Python 3",
   "language": "python",
   "name": "python3"
  },
  "language_info": {
   "codemirror_mode": {
    "name": "ipython",
    "version": 3
   },
   "file_extension": ".py",
   "mimetype": "text/x-python",
   "name": "python",
   "nbconvert_exporter": "python",
   "pygments_lexer": "ipython3",
   "version": "3.6.8"
  }
 },
 "nbformat": 4,
 "nbformat_minor": 2
}
